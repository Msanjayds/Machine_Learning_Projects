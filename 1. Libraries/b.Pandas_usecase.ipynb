{
 "cells": [
  {
   "cell_type": "code",
   "execution_count": 2,
   "metadata": {},
   "outputs": [],
   "source": [
    "import pandas as pd\n",
    "import numpy as np"
   ]
  },
  {
   "cell_type": "code",
   "execution_count": 5,
   "metadata": {},
   "outputs": [],
   "source": [
    "#set seed for reproducibility\n",
    "np.random.seed(10)"
   ]
  },
  {
   "cell_type": "code",
   "execution_count": 11,
   "metadata": {},
   "outputs": [
    {
     "data": {
      "text/plain": [
       "pandas.core.indexes.datetimes.DatetimeIndex"
      ]
     },
     "execution_count": 11,
     "metadata": {},
     "output_type": "execute_result"
    }
   ],
   "source": [
    "#Create range of dates\n",
    "dates = pd.date_range(start='2025-01-01',end='2025-12-31',freq='D')\n",
    "n = len(dates)\n",
    "type(dates)"
   ]
  },
  {
   "cell_type": "code",
   "execution_count": null,
   "metadata": {},
   "outputs": [
    {
     "data": {
      "text/plain": [
       "(365, 5)"
      ]
     },
     "execution_count": 23,
     "metadata": {},
     "output_type": "execute_result"
    }
   ],
   "source": [
    "#Generate sample data\n",
    "df = pd.DataFrame({\n",
    "'date' : dates,\n",
    "'sales' : np.random.randint(100,1000,size=n),\n",
    "'product' : np.random.choice(['A','B','C','D'],size=n),\n",
    "'cust_id' : np.random.randint(1,500,size=n),\n",
    "'cost' : np.random.uniform(100,200,size=n)\n",
    "})\n",
    "df.head()"
   ]
  },
  {
   "cell_type": "code",
   "execution_count": 24,
   "metadata": {},
   "outputs": [
    {
     "name": "stdout",
     "output_type": "stream",
     "text": [
      "file saved\n"
     ]
    }
   ],
   "source": [
    "#save the dataset as csv\n",
    "df.to_csv(\"sample_business_data\",index=False)\n",
    "print(f\"file saved\")"
   ]
  },
  {
   "cell_type": "code",
   "execution_count": 25,
   "metadata": {},
   "outputs": [],
   "source": [
    "#IDNTIFY TRENDS IN A DATSET USING PANDAS"
   ]
  },
  {
   "cell_type": "code",
   "execution_count": null,
   "metadata": {},
   "outputs": [],
   "source": [
    "filepath = r'~/Users/sanjaym  /MY DESK/01_TECHNICAL/MY_GITHUB/Machine_Learning_Projects/1. Libraries'"
   ]
  },
  {
   "cell_type": "code",
   "execution_count": 29,
   "metadata": {},
   "outputs": [
    {
     "data": {
      "text/html": [
       "<div>\n",
       "<style scoped>\n",
       "    .dataframe tbody tr th:only-of-type {\n",
       "        vertical-align: middle;\n",
       "    }\n",
       "\n",
       "    .dataframe tbody tr th {\n",
       "        vertical-align: top;\n",
       "    }\n",
       "\n",
       "    .dataframe thead th {\n",
       "        text-align: right;\n",
       "    }\n",
       "</style>\n",
       "<table border=\"1\" class=\"dataframe\">\n",
       "  <thead>\n",
       "    <tr style=\"text-align: right;\">\n",
       "      <th></th>\n",
       "      <th>date</th>\n",
       "      <th>sales</th>\n",
       "      <th>product</th>\n",
       "      <th>cust_id</th>\n",
       "      <th>cost</th>\n",
       "    </tr>\n",
       "  </thead>\n",
       "  <tbody>\n",
       "    <tr>\n",
       "      <th>0</th>\n",
       "      <td>2025-01-01</td>\n",
       "      <td>859</td>\n",
       "      <td>C</td>\n",
       "      <td>4</td>\n",
       "      <td>166.916021</td>\n",
       "    </tr>\n",
       "    <tr>\n",
       "      <th>1</th>\n",
       "      <td>2025-01-02</td>\n",
       "      <td>353</td>\n",
       "      <td>C</td>\n",
       "      <td>98</td>\n",
       "      <td>121.752442</td>\n",
       "    </tr>\n",
       "    <tr>\n",
       "      <th>2</th>\n",
       "      <td>2025-01-03</td>\n",
       "      <td>760</td>\n",
       "      <td>C</td>\n",
       "      <td>450</td>\n",
       "      <td>190.103605</td>\n",
       "    </tr>\n",
       "    <tr>\n",
       "      <th>3</th>\n",
       "      <td>2025-01-04</td>\n",
       "      <td>995</td>\n",
       "      <td>A</td>\n",
       "      <td>365</td>\n",
       "      <td>182.104464</td>\n",
       "    </tr>\n",
       "    <tr>\n",
       "      <th>4</th>\n",
       "      <td>2025-01-05</td>\n",
       "      <td>396</td>\n",
       "      <td>C</td>\n",
       "      <td>483</td>\n",
       "      <td>147.169050</td>\n",
       "    </tr>\n",
       "  </tbody>\n",
       "</table>\n",
       "</div>"
      ],
      "text/plain": [
       "         date  sales product  cust_id        cost\n",
       "0  2025-01-01    859       C        4  166.916021\n",
       "1  2025-01-02    353       C       98  121.752442\n",
       "2  2025-01-03    760       C      450  190.103605\n",
       "3  2025-01-04    995       A      365  182.104464\n",
       "4  2025-01-05    396       C      483  147.169050"
      ]
     },
     "execution_count": 29,
     "metadata": {},
     "output_type": "execute_result"
    }
   ],
   "source": [
    "df = pd.read_csv('sample_business_data')\n",
    "df.head()"
   ]
  },
  {
   "cell_type": "code",
   "execution_count": 32,
   "metadata": {},
   "outputs": [
    {
     "name": "stdout",
     "output_type": "stream",
     "text": [
      "<class 'pandas.core.frame.DataFrame'>\n",
      "RangeIndex: 365 entries, 0 to 364\n",
      "Data columns (total 5 columns):\n",
      " #   Column   Non-Null Count  Dtype         \n",
      "---  ------   --------------  -----         \n",
      " 0   date     365 non-null    datetime64[ns]\n",
      " 1   sales    365 non-null    int64         \n",
      " 2   product  365 non-null    object        \n",
      " 3   cust_id  365 non-null    int64         \n",
      " 4   cost     365 non-null    float64       \n",
      "dtypes: datetime64[ns](1), float64(1), int64(2), object(1)\n",
      "memory usage: 14.4+ KB\n"
     ]
    }
   ],
   "source": [
    "df['date'] = pd.to_datetime(df['date'],errors='coerce')\n",
    "df.head()\n",
    "df.info()"
   ]
  },
  {
   "cell_type": "code",
   "execution_count": 33,
   "metadata": {},
   "outputs": [],
   "source": [
    "df.set_index('date',inplace=True)"
   ]
  },
  {
   "cell_type": "code",
   "execution_count": 35,
   "metadata": {},
   "outputs": [
    {
     "name": "stdout",
     "output_type": "stream",
     "text": [
      "<class 'pandas.core.frame.DataFrame'>\n",
      "DatetimeIndex: 365 entries, 2025-01-01 to 2025-12-31\n",
      "Data columns (total 4 columns):\n",
      " #   Column   Non-Null Count  Dtype  \n",
      "---  ------   --------------  -----  \n",
      " 0   sales    365 non-null    int64  \n",
      " 1   product  365 non-null    object \n",
      " 2   cust_id  365 non-null    int64  \n",
      " 3   cost     365 non-null    float64\n",
      "dtypes: float64(1), int64(2), object(1)\n",
      "memory usage: 14.3+ KB\n"
     ]
    }
   ],
   "source": [
    "df.info()"
   ]
  },
  {
   "cell_type": "code",
   "execution_count": null,
   "metadata": {},
   "outputs": [
    {
     "name": "stdout",
     "output_type": "stream",
     "text": [
      "<class 'pandas.core.indexes.datetimes.DatetimeIndex'>\n"
     ]
    }
   ],
   "source": [
    "print(type(df.index))"
   ]
  },
  {
   "cell_type": "code",
   "execution_count": 48,
   "metadata": {},
   "outputs": [
    {
     "data": {
      "text/plain": [
       "date\n",
       "2025-08-31    504.838710\n",
       "2025-09-30    567.000000\n",
       "2025-10-31    496.806452\n",
       "2025-11-30    472.266667\n",
       "2025-12-31    444.709677\n",
       "Freq: ME, Name: sales, dtype: float64"
      ]
     },
     "execution_count": 48,
     "metadata": {},
     "output_type": "execute_result"
    }
   ],
   "source": [
    "monthly_trend = df['sales'].resample('ME').mean()\n",
    "monthly_trend.tail()\n"
   ]
  },
  {
   "cell_type": "code",
   "execution_count": 52,
   "metadata": {},
   "outputs": [
    {
     "data": {
      "text/html": [
       "<div>\n",
       "<style scoped>\n",
       "    .dataframe tbody tr th:only-of-type {\n",
       "        vertical-align: middle;\n",
       "    }\n",
       "\n",
       "    .dataframe tbody tr th {\n",
       "        vertical-align: top;\n",
       "    }\n",
       "\n",
       "    .dataframe thead th {\n",
       "        text-align: right;\n",
       "    }\n",
       "</style>\n",
       "<table border=\"1\" class=\"dataframe\">\n",
       "  <thead>\n",
       "    <tr style=\"text-align: right;\">\n",
       "      <th></th>\n",
       "      <th>sales</th>\n",
       "      <th>cust_id</th>\n",
       "      <th>cost</th>\n",
       "    </tr>\n",
       "    <tr>\n",
       "      <th>date</th>\n",
       "      <th></th>\n",
       "      <th></th>\n",
       "      <th></th>\n",
       "    </tr>\n",
       "  </thead>\n",
       "  <tbody>\n",
       "    <tr>\n",
       "      <th>2025-01-01</th>\n",
       "      <td>859</td>\n",
       "      <td>4</td>\n",
       "      <td>166.916021</td>\n",
       "    </tr>\n",
       "    <tr>\n",
       "      <th>2025-01-02</th>\n",
       "      <td>353</td>\n",
       "      <td>98</td>\n",
       "      <td>121.752442</td>\n",
       "    </tr>\n",
       "    <tr>\n",
       "      <th>2025-01-03</th>\n",
       "      <td>760</td>\n",
       "      <td>450</td>\n",
       "      <td>190.103605</td>\n",
       "    </tr>\n",
       "    <tr>\n",
       "      <th>2025-01-04</th>\n",
       "      <td>995</td>\n",
       "      <td>365</td>\n",
       "      <td>182.104464</td>\n",
       "    </tr>\n",
       "    <tr>\n",
       "      <th>2025-01-05</th>\n",
       "      <td>396</td>\n",
       "      <td>483</td>\n",
       "      <td>147.169050</td>\n",
       "    </tr>\n",
       "  </tbody>\n",
       "</table>\n",
       "</div>"
      ],
      "text/plain": [
       "            sales  cust_id        cost\n",
       "date                                  \n",
       "2025-01-01    859        4  166.916021\n",
       "2025-01-02    353       98  121.752442\n",
       "2025-01-03    760      450  190.103605\n",
       "2025-01-04    995      365  182.104464\n",
       "2025-01-05    396      483  147.169050"
      ]
     },
     "execution_count": 52,
     "metadata": {},
     "output_type": "execute_result"
    }
   ],
   "source": [
    "#2. IDENTIFY CORRELATIONS\n",
    "#select only numeric columns\n",
    "numeric_df = df.select_dtypes(include='number')\n",
    "numeric_df.head()"
   ]
  },
  {
   "cell_type": "code",
   "execution_count": 55,
   "metadata": {},
   "outputs": [
    {
     "name": "stdout",
     "output_type": "stream",
     "text": [
      "            sales   cust_id      cost\n",
      "sales    1.000000  0.001922  0.173962\n",
      "cust_id  0.001922  1.000000 -0.011496\n",
      "cost     0.173962 -0.011496  1.000000\n"
     ]
    }
   ],
   "source": [
    "corr_matrix = numeric_df.corr()\n",
    "print(corr_matrix)"
   ]
  },
  {
   "cell_type": "code",
   "execution_count": 63,
   "metadata": {},
   "outputs": [
    {
     "name": "stderr",
     "output_type": "stream",
     "text": [
      "/var/folders/qm/zvkzkmf53w79ngd_d28v51th0000gn/T/ipykernel_12162/3495937053.py:3: FutureWarning: 'M' is deprecated and will be removed in a future version, please use 'ME' instead.\n",
      "  monthly_sales = df['sales'].resample('M').sum()\n"
     ]
    },
    {
     "data": {
      "text/plain": [
       "date\n",
       "2025-01-31    15791\n",
       "2025-02-28    13271\n",
       "2025-03-31    15750\n",
       "2025-04-30    16281\n",
       "2025-05-31    17003\n",
       "2025-06-30    17692\n",
       "2025-07-31    16762\n",
       "2025-08-31    15650\n",
       "2025-09-30    17010\n",
       "2025-10-31    15401\n",
       "2025-11-30    14168\n",
       "2025-12-31    13786\n",
       "Freq: ME, Name: sales, dtype: int64"
      ]
     },
     "execution_count": 63,
     "metadata": {},
     "output_type": "execute_result"
    }
   ],
   "source": [
    "#3. Pandas data visualization\n",
    "import matplotlib.pyplot as plt\n",
    "monthly_sales = df['sales'].resample('M').sum()\n",
    "monthly_sales\n"
   ]
  },
  {
   "cell_type": "code",
   "execution_count": 67,
   "metadata": {},
   "outputs": [
    {
     "data": {
      "image/png": "[encoded data removed]",
      "text/plain": [
       "<Figure size 1000x500 with 1 Axes>"
      ]
     },
     "metadata": {},
     "output_type": "display_data"
    }
   ],
   "source": [
    "\n",
    "plt.figure(figsize=(10,5))\n",
    "plt.plot(monthly_sales,marker='o')\n",
    "plt.title('Monthly sales')\n",
    "plt.grid(True)\n",
    "plt.show()"
   ]
  },
  {
   "cell_type": "code",
   "execution_count": 77,
   "metadata": {},
   "outputs": [
    {
     "name": "stdout",
     "output_type": "stream",
     "text": [
      "product\n",
      "D    531.233333\n",
      "A    523.666667\n",
      "B    515.865854\n",
      "C    494.934066\n",
      "Name: sales, dtype: float64\n"
     ]
    }
   ],
   "source": [
    "df.head()\n",
    "avg_sales_by_product = df.groupby('product')['sales'].mean().sort_values(ascending=False)\n",
    "print(avg_sales_by_product)"
   ]
  },
  {
   "cell_type": "code",
   "execution_count": 80,
   "metadata": {},
   "outputs": [
    {
     "data": {
      "image/png": "[encoded data removed]",
      "text/plain": [
       "<Figure size 640x480 with 1 Axes>"
      ]
     },
     "metadata": {},
     "output_type": "display_data"
    }
   ],
   "source": [
    "plt.plot(avg_sales_by_product,marker='o')\n",
    "plt.show()"
   ]
  },
  {
   "cell_type": "code",
   "execution_count": 86,
   "metadata": {},
   "outputs": [
    {
     "name": "stdout",
     "output_type": "stream",
     "text": [
      "517.1920529801324\n",
      "516.2102803738318\n"
     ]
    }
   ],
   "source": [
    "pre_campagin = df[df.index < '2025-06-01']['sales'].mean()\n",
    "post_campgain = df[df.index >= '2025-06-01']['sales'].mean()\n",
    "print(pre_campagin)\n",
    "print(post_campgain)"
   ]
  },
  {
   "cell_type": "code",
   "execution_count": 90,
   "metadata": {},
   "outputs": [
    {
     "name": "stdout",
     "output_type": "stream",
     "text": [
      "change in the avg sales : -0.9817726063006376\n"
     ]
    }
   ],
   "source": [
    "print(f'change in the avg sales : {post_campgain - pre_campagin}')"
   ]
  },
  {
   "cell_type": "code",
   "execution_count": 92,
   "metadata": {},
   "outputs": [
    {
     "data": {
      "text/html": [
       "<div>\n",
       "<style scoped>\n",
       "    .dataframe tbody tr th:only-of-type {\n",
       "        vertical-align: middle;\n",
       "    }\n",
       "\n",
       "    .dataframe tbody tr th {\n",
       "        vertical-align: top;\n",
       "    }\n",
       "\n",
       "    .dataframe thead th {\n",
       "        text-align: right;\n",
       "    }\n",
       "</style>\n",
       "<table border=\"1\" class=\"dataframe\">\n",
       "  <thead>\n",
       "    <tr style=\"text-align: right;\">\n",
       "      <th></th>\n",
       "      <th>sales</th>\n",
       "      <th>product</th>\n",
       "      <th>cust_id</th>\n",
       "      <th>cost</th>\n",
       "    </tr>\n",
       "    <tr>\n",
       "      <th>date</th>\n",
       "      <th></th>\n",
       "      <th></th>\n",
       "      <th></th>\n",
       "      <th></th>\n",
       "    </tr>\n",
       "  </thead>\n",
       "  <tbody>\n",
       "    <tr>\n",
       "      <th>2025-01-01</th>\n",
       "      <td>859</td>\n",
       "      <td>C</td>\n",
       "      <td>4</td>\n",
       "      <td>166.916021</td>\n",
       "    </tr>\n",
       "    <tr>\n",
       "      <th>2025-01-02</th>\n",
       "      <td>353</td>\n",
       "      <td>C</td>\n",
       "      <td>98</td>\n",
       "      <td>121.752442</td>\n",
       "    </tr>\n",
       "    <tr>\n",
       "      <th>2025-01-03</th>\n",
       "      <td>760</td>\n",
       "      <td>C</td>\n",
       "      <td>450</td>\n",
       "      <td>190.103605</td>\n",
       "    </tr>\n",
       "    <tr>\n",
       "      <th>2025-01-04</th>\n",
       "      <td>995</td>\n",
       "      <td>A</td>\n",
       "      <td>365</td>\n",
       "      <td>182.104464</td>\n",
       "    </tr>\n",
       "    <tr>\n",
       "      <th>2025-01-05</th>\n",
       "      <td>396</td>\n",
       "      <td>C</td>\n",
       "      <td>483</td>\n",
       "      <td>147.169050</td>\n",
       "    </tr>\n",
       "  </tbody>\n",
       "</table>\n",
       "</div>"
      ],
      "text/plain": [
       "            sales product  cust_id        cost\n",
       "date                                          \n",
       "2025-01-01    859       C        4  166.916021\n",
       "2025-01-02    353       C       98  121.752442\n",
       "2025-01-03    760       C      450  190.103605\n",
       "2025-01-04    995       A      365  182.104464\n",
       "2025-01-05    396       C      483  147.169050"
      ]
     },
     "execution_count": 92,
     "metadata": {},
     "output_type": "execute_result"
    }
   ],
   "source": [
    "df.head()\n"
   ]
  },
  {
   "cell_type": "code",
   "execution_count": 95,
   "metadata": {},
   "outputs": [
    {
     "data": {
      "text/plain": [
       "cust_id\n",
       "118    3\n",
       "228    3\n",
       "124    3\n",
       "100    3\n",
       "139    3\n",
       "      ..\n",
       "230    1\n",
       "231    1\n",
       "239    1\n",
       "244    1\n",
       "498    1\n",
       "Length: 262, dtype: int64"
      ]
     },
     "execution_count": 95,
     "metadata": {},
     "output_type": "execute_result"
    }
   ],
   "source": [
    "freq = df.groupby('cust_id').size().sort_values(ascending=False)\n",
    "freq"
   ]
  },
  {
   "cell_type": "code",
   "execution_count": 98,
   "metadata": {},
   "outputs": [
    {
     "data": {
      "text/plain": [
       "product\n",
       "B    42301\n",
       "C    45039\n",
       "D    47811\n",
       "A    53414\n",
       "Name: sales, dtype: int64"
      ]
     },
     "execution_count": 98,
     "metadata": {},
     "output_type": "execute_result"
    }
   ],
   "source": [
    "produt_sales = df.groupby('product')['sales'].sum().sort_values(ascending=True)\n",
    "produt_sales"
   ]
  },
  {
   "cell_type": "code",
   "execution_count": 108,
   "metadata": {},
   "outputs": [
    {
     "data": {
      "text/plain": [
       "15711.451741401635"
      ]
     },
     "execution_count": 108,
     "metadata": {},
     "output_type": "execute_result"
    }
   ],
   "source": [
    "a = df[df['product'] == 'A']['cost'].sum()\n",
    "a"
   ]
  },
  {
   "cell_type": "code",
   "execution_count": 107,
   "metadata": {},
   "outputs": [
    {
     "data": {
      "text/plain": [
       "product\n",
       "A    102\n",
       "B     82\n",
       "C     91\n",
       "D     90\n",
       "Name: product, dtype: int64"
      ]
     },
     "execution_count": 107,
     "metadata": {},
     "output_type": "execute_result"
    }
   ],
   "source": [
    "df.groupby('product')['product'].count()"
   ]
  }
 ],
 "metadata": {
  "kernelspec": {
   "display_name": "base",
   "language": "python",
   "name": "python3"
  },
  "language_info": {
   "codemirror_mode": {
    "name": "ipython",
    "version": 3
   },
   "file_extension": ".py",
   "mimetype": "text/x-python",
   "name": "python",
   "nbconvert_exporter": "python",
   "pygments_lexer": "ipython3",
   "version": "3.12.4"
  }
 },
 "nbformat": 4,
 "nbformat_minor": 2
}
