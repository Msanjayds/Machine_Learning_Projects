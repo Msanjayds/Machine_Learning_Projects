{
  "nbformat": 4,
  "nbformat_minor": 0,
  "metadata": {
    "colab": {
      "name": "Untitled25.ipynb",
      "provenance": [],
      "authorship_tag": "ABX9TyMU0p8BDgHzKp1Ot20fMRGP",
      "include_colab_link": true
    },
    "kernelspec": {
      "name": "python3",
      "display_name": "Python 3"
    }
  },
  "cells": [
    {
      "cell_type": "markdown",
      "metadata": {
        "id": "view-in-github",
        "colab_type": "text"
      },
      "source": [
        "<a href=\"https://colab.research.google.com/github/Msanjayds/Machine_Learning_Projects/blob/master/4.%20Scikitlearn/FeatureSelection.ipynb\" target=\"_parent\"><img src=\"https://colab.research.google.com/assets/colab-badge.svg\" alt=\"Open In Colab\"/></a>"
      ]
    },
    {
      "cell_type": "markdown",
      "metadata": {
        "id": "T2j8TpMZjfcf",
        "colab_type": "text"
      },
      "source": [
        "## Pipeline and Feature Selection class usage from sklearn"
      ]
    },
    {
      "cell_type": "code",
      "metadata": {
        "id": "Iqa9ATg8WIYR",
        "colab_type": "code",
        "colab": {
          "base_uri": "https://localhost:8080/",
          "height": 54
        },
        "outputId": "1b8064f2-55b1-4a4f-a575-ba1de1cb0edf"
      },
      "source": [
        "import numpy as np\n",
        "import matplotlib.pyplot as plt \n",
        "from sklearn.datasets import load_iris\n",
        "from sklearn.feature_selection import SelectPercentile, chi2\n",
        "from sklearn.pipeline import Pipeline\n",
        "from sklearn.preprocessing import StandardScaler\n",
        "from sklearn.svm import SVC\n",
        "from sklearn.model_selection import cross_val_score\n",
        "\n",
        "np.random.seed(0)\n",
        "\n",
        "###########################################################################################\n",
        "#Imort the Iris data\n",
        "x,y = load_iris(return_X_y = True)\n",
        "print('Before', x.shape)\n",
        " \n",
        "#Add the Non-informative Features\n",
        "x = np.hstack((x,2 * np.random.random((x.shape[0], 36))))\n",
        "print('After', x.shape)\n",
        "###########################################################################################"
      ],
      "execution_count": 89,
      "outputs": [
        {
          "output_type": "stream",
          "text": [
            "Before (150, 4)\n",
            "After (150, 40)\n"
          ],
          "name": "stdout"
        }
      ]
    },
    {
      "cell_type": "code",
      "metadata": {
        "id": "wtlIDIZjdtX1",
        "colab_type": "code",
        "colab": {
          "base_uri": "https://localhost:8080/",
          "height": 254
        },
        "outputId": "89f6c707-32d3-4ccf-bfa0-f303f20ec018"
      },
      "source": [
        "###########################################################################################\n",
        "# Create a pipline of the below\n",
        "# a. Feature-selection transform\n",
        "# b. Strandarscaler\n",
        "# c. SVC estiamtor\n",
        "\n",
        "clf = Pipeline([('anova', SelectPercentile(chi2)),\n",
        "                ('scaler', StandardScaler()),\n",
        "                ('svc', SVC(gamma=\"auto\"))])\n",
        "clf"
      ],
      "execution_count": 92,
      "outputs": [
        {
          "output_type": "execute_result",
          "data": {
            "text/plain": [
              "Pipeline(memory=None,\n",
              "         steps=[('anova',\n",
              "                 SelectPercentile(percentile=10,\n",
              "                                  score_func=<function chi2 at 0x7f4f64da5598>)),\n",
              "                ('scaler',\n",
              "                 StandardScaler(copy=True, with_mean=True, with_std=True)),\n",
              "                ('svc',\n",
              "                 SVC(C=1.0, break_ties=False, cache_size=200, class_weight=None,\n",
              "                     coef0=0.0, decision_function_shape='ovr', degree=3,\n",
              "                     gamma='auto', kernel='rbf', max_iter=-1, probability=False,\n",
              "                     random_state=None, shrinking=True, tol=0.001,\n",
              "                     verbose=False))],\n",
              "         verbose=False)"
            ]
          },
          "metadata": {
            "tags": []
          },
          "execution_count": 92
        }
      ]
    },
    {
      "cell_type": "code",
      "metadata": {
        "id": "Oz7YHUotdu3_",
        "colab_type": "code",
        "colab": {
          "base_uri": "https://localhost:8080/",
          "height": 235
        },
        "outputId": "5a899cef-d41e-4bca-ff0b-439b9d8337ba"
      },
      "source": [
        "###########################################################################################\n",
        "## Fit the esitmator for diffrent percentile of features and capture the scores\n",
        "score_means = list()\n",
        "score_stds = list()\n",
        "percentiles = [1,3,6,10,15,20,30,40,50,60,70,100]\n",
        "\n",
        "\n",
        "for percentile in percentiles:\n",
        "    clf.set_params(anova__percentile=percentile)\n",
        "    this_scores = cross_val_score(clf, x, y)\n",
        "    score_means.append(this_scores.mean())\n",
        "    score_stds.append(this_scores.std())\n",
        "\n",
        "dict(zip(percentiles,score_means ))\n",
        "\n",
        "##From the below we can see that withthe 10 percentile of fetures i.e 4, we can get the best score."
      ],
      "execution_count": 107,
      "outputs": [
        {
          "output_type": "execute_result",
          "data": {
            "text/plain": [
              "{1: 0.9533333333333334,\n",
              " 3: 0.96,\n",
              " 6: 0.9533333333333334,\n",
              " 10: 0.9800000000000001,\n",
              " 15: 0.9466666666666667,\n",
              " 20: 0.9200000000000002,\n",
              " 30: 0.8733333333333333,\n",
              " 40: 0.8666666666666666,\n",
              " 50: 0.8600000000000001,\n",
              " 60: 0.8533333333333333,\n",
              " 70: 0.8400000000000001,\n",
              " 100: 0.8066666666666666}"
            ]
          },
          "metadata": {
            "tags": []
          },
          "execution_count": 107
        }
      ]
    },
    {
      "cell_type": "code",
      "metadata": {
        "id": "YLyHv26mmaXi",
        "colab_type": "code",
        "colab": {
          "base_uri": "https://localhost:8080/",
          "height": 295
        },
        "outputId": "773e01e5-3362-4489-c89e-5f7e615c9bfb"
      },
      "source": [
        "\n",
        "###########################################################################################\n",
        "## Plot the cross_val score as a function of percentile of features.\n",
        "plt.errorbar(percentiles, score_means, np.array(score_stds))\n",
        "plt.title(\n",
        "    'Performance of the SVM-Anova varying the percentile of features selected')\n",
        "plt.xticks(np.linspace(0, 100, 11, endpoint=True))\n",
        "plt.xlabel('Percentile')\n",
        "plt.ylabel('Accuracy Score')\n",
        "plt.axis('tight')\n",
        "plt.show()\n",
        "\n",
        "\n"
      ],
      "execution_count": 108,
      "outputs": [
        {
          "output_type": "display_data",
          "data": {
            "image/png": "[encoded data removed]",
            "text/plain": [
              "<Figure size 432x288 with 1 Axes>"
            ]
          },
          "metadata": {
            "tags": [],
            "needs_background": "light"
          }
        }
      ]
    },
    {
      "cell_type": "code",
      "metadata": {
        "id": "jDAZPJlJhAH_",
        "colab_type": "code",
        "colab": {}
      },
      "source": [
        ""
      ],
      "execution_count": null,
      "outputs": []
    }
  ]
}